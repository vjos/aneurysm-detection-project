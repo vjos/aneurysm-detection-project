{
 "cells": [
  {
   "cell_type": "code",
   "execution_count": null,
   "metadata": {},
   "outputs": [],
   "source": []
  },
  {
   "cell_type": "code",
   "execution_count": 2,
   "metadata": {},
   "outputs": [
    {
     "ename": "ModuleNotFoundError",
     "evalue": "No module named 'pointnet2_ops'",
     "output_type": "error",
     "traceback": [
      "\u001b[0;31m---------------------------------------------------------------------------\u001b[0m",
      "\u001b[0;31mModuleNotFoundError\u001b[0m                       Traceback (most recent call last)",
      "Cell \u001b[0;32mIn[2], line 3\u001b[0m\n\u001b[1;32m      1\u001b[0m \u001b[39mimport\u001b[39;00m \u001b[39mtorch\u001b[39;00m\n\u001b[1;32m      2\u001b[0m \u001b[39mfrom\u001b[39;00m \u001b[39mtorch\u001b[39;00m\u001b[39m.\u001b[39;00m\u001b[39mutils\u001b[39;00m\u001b[39m.\u001b[39;00m\u001b[39mdata\u001b[39;00m \u001b[39mimport\u001b[39;00m DataLoader\n\u001b[0;32m----> 3\u001b[0m \u001b[39mfrom\u001b[39;00m \u001b[39mmodels\u001b[39;00m\u001b[39m.\u001b[39;00m\u001b[39mpointmlp\u001b[39;00m \u001b[39mimport\u001b[39;00m pointMLP \n\u001b[1;32m      4\u001b[0m \u001b[39mfrom\u001b[39;00m \u001b[39mintra\u001b[39;00m \u001b[39mimport\u001b[39;00m IntrA\n\u001b[1;32m      5\u001b[0m \u001b[39mimport\u001b[39;00m \u001b[39mos\u001b[39;00m\n",
      "File \u001b[0;32m~/Documents/masters-project/project/models/pointmlp.py:4\u001b[0m\n\u001b[1;32m      2\u001b[0m \u001b[39mimport\u001b[39;00m \u001b[39mtorch\u001b[39;00m\u001b[39m.\u001b[39;00m\u001b[39mnn\u001b[39;00m \u001b[39mas\u001b[39;00m \u001b[39mnn\u001b[39;00m\n\u001b[1;32m      3\u001b[0m \u001b[39mimport\u001b[39;00m \u001b[39mtorch\u001b[39;00m\u001b[39m.\u001b[39;00m\u001b[39mnn\u001b[39;00m\u001b[39m.\u001b[39;00m\u001b[39mfunctional\u001b[39;00m \u001b[39mas\u001b[39;00m \u001b[39mF\u001b[39;00m\n\u001b[0;32m----> 4\u001b[0m \u001b[39mfrom\u001b[39;00m \u001b[39mpointnet2_ops\u001b[39;00m \u001b[39mimport\u001b[39;00m pointnet2_utils\n\u001b[1;32m      7\u001b[0m \u001b[39mdef\u001b[39;00m \u001b[39mget_activation\u001b[39m(activation):\n\u001b[1;32m      8\u001b[0m     \u001b[39mif\u001b[39;00m activation\u001b[39m.\u001b[39mlower() \u001b[39m==\u001b[39m \u001b[39m\"\u001b[39m\u001b[39mgelu\u001b[39m\u001b[39m\"\u001b[39m:\n",
      "\u001b[0;31mModuleNotFoundError\u001b[0m: No module named 'pointnet2_ops'"
     ]
    }
   ],
   "source": [
    "import os\n",
    "import torch\n",
    "from torch.utils.data import DataLoader\n",
    "from models.pointmlp import pointMLP \n",
    "from intra import IntrA\n",
    "from Augment.pointaugment import PointAugment\n",
    "from Augment.augmentor import Augmentor\n",
    "\n",
    "dev = (\n",
    "    \"cuda\"\n",
    "    if torch.cuda.is_available()\n",
    "    else \"mps\"\n",
    "    if torch.backends.mps.is_available()\n",
    "    else \"cpu\"\n",
    ")"
   ]
  },
  {
   "cell_type": "code",
   "execution_count": null,
   "metadata": {},
   "outputs": [],
   "source": [
    "trn = IntrA(\n",
    "    \"/data\",\n",
    "    npoints=1024,\n",
    "    exclude_seg=True,\n",
    "    norm=False,\n",
    "    dataset=\"classification\",\n",
    "    fold=1,\n",
    "    kfold_splits=\"./file_splits/cls\",\n",
    "    test=False,\n",
    ")\n",
    "\n",
    "tst = IntrA(\n",
    "    \"/data\",\n",
    "    npoints=1024,\n",
    "    exclude_seg=True,\n",
    "    norm=False,\n",
    "    dataset=\"classification\",\n",
    "    fold=1,\n",
    "    kfold_splits=\"./file_splits/cls\",\n",
    "    test=True,\n",
    ")\n",
    "\n",
    "train_dl = DataLoader(trn, batch_size=16, num_workers=4, drop_last=True, shuffle=True)\n",
    "test_dl = DataLoader(tst, batch_size=8, num_workers=2, drop_last=False)\n",
    "\n",
    "classifier = pointMLP(num_classes=2)\n",
    "augmentor = Augmentor()\n",
    "\n",
    "optimizer_c = torch.optim.SGD(\n",
    "    classifier.parameters(),\n",
    "    lr=0.025,\n",
    "    momentum=0.9,\n",
    "    weight_decay=2e-4,\n",
    ")\n",
    "\n",
    "optimizer_a = torch.optim.Adam(\n",
    "    augmentor.parameters(),\n",
    "    lr=0.001,\n",
    "    betas=(0.9, 0.999),\n",
    "    eps=1e-08,\n",
    "    weight_decay=1e-4,\n",
    ")\n",
    "\n",
    "epochs = 3\n",
    "\n",
    "scheduler_c = torch.optim.lr_scheduler.CosineAnnealingLR(\n",
    "    optimizer_c, epochs, eta_min=5e-4, last_epoch=-1\n",
    ")\n",
    "\n",
    "# scheduler_a = torch.optim.lr_scheduler.StepLR(\n",
    "#     optimizer_a,\n",
    "#     step_size=20,\n",
    "#     gamma=0.5\n",
    "# )\n",
    "scheduler_a = None\n",
    "\n",
    "adverse = PointAugment(\n",
    "    classifier,\n",
    "    augmentor,\n",
    "    train_dl,\n",
    "    test_dl,\n",
    "    epochs,  \n",
    "    optimizer_a,\n",
    "    optimizer_c,\n",
    "    scheduler_a,\n",
    "    scheduler_c,\n",
    ")\n"
   ]
  }
 ],
 "metadata": {
  "kernelspec": {
   "display_name": "masters-env",
   "language": "python",
   "name": "python3"
  },
  "language_info": {
   "codemirror_mode": {
    "name": "ipython",
    "version": 3
   },
   "file_extension": ".py",
   "mimetype": "text/x-python",
   "name": "python",
   "nbconvert_exporter": "python",
   "pygments_lexer": "ipython3",
   "version": "3.9.17"
  },
  "orig_nbformat": 4
 },
 "nbformat": 4,
 "nbformat_minor": 2
}
