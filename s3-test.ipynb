{
 "cells": [
  {
   "cell_type": "code",
   "execution_count": 16,
   "metadata": {},
   "outputs": [
    {
     "name": "stdout",
     "output_type": "stream",
     "text": [
      "masters-models-bucket\n"
     ]
    }
   ],
   "source": [
    "import boto3\n",
    "\n",
    "session = boto3.session.Session(profile_name=\"masters-root\")\n",
    "\n",
    "# clients provide low-level access to AWS through a JSON service; effectively the same as using the CLI\n",
    "client = session.client(\"s3\")\n",
    "res = client.list_buckets()\n",
    "for b in res[\"Buckets\"]:\n",
    "    print(b[\"Name\"])"
   ]
  },
  {
   "cell_type": "code",
   "execution_count": 17,
   "metadata": {},
   "outputs": [
    {
     "name": "stdout",
     "output_type": "stream",
     "text": [
      "masters-models-bucket\n"
     ]
    }
   ],
   "source": [
    "# resources provide higher level, object-oriented access but will not be expanded with new features in future\n",
    "s3 = session.resource(\"s3\")\n",
    "for b in s3.buckets.all():\n",
    "    print(b.name)"
   ]
  },
  {
   "cell_type": "code",
   "execution_count": 15,
   "metadata": {},
   "outputs": [
    {
     "name": "stdout",
     "output_type": "stream",
     "text": [
      "{'ResponseMetadata': {'RequestId': 'W8Y48QS7A55RNFQY', 'HostId': 'JAXZiNCltJTH+5nZOHg0zzlrwSQnyH4PCD+FRCUD7ivfJSn/hLOQxdMOVhwaRwfqXLB/tVN2/q4=', 'HTTPStatusCode': 200, 'HTTPHeaders': {'x-amz-id-2': 'JAXZiNCltJTH+5nZOHg0zzlrwSQnyH4PCD+FRCUD7ivfJSn/hLOQxdMOVhwaRwfqXLB/tVN2/q4=', 'x-amz-request-id': 'W8Y48QS7A55RNFQY', 'date': 'Mon, 31 Jul 2023 12:08:15 GMT', 'location': 'http://masters-models-bucket.s3.amazonaws.com/', 'server': 'AmazonS3', 'content-length': '0'}, 'RetryAttempts': 0}, 'Location': 'http://masters-models-bucket.s3.amazonaws.com/'}\n"
     ]
    }
   ],
   "source": [
    "res = client.create_bucket(\n",
    "    Bucket=\"masters-models-bucket\",\n",
    "    CreateBucketConfiguration={\n",
    "        'LocationConstraint': 'eu-west-2'\n",
    "    }\n",
    ")\n",
    "print(res)"
   ]
  },
  {
   "cell_type": "code",
   "execution_count": 19,
   "metadata": {},
   "outputs": [],
   "source": [
    "with open('test.txt', 'w') as F:\n",
    "    F.write(\"text\")\n",
    "\n",
    "client.upload_file('test.txt', \"masters-models-bucket\", \"test.txt\")"
   ]
  },
  {
   "cell_type": "code",
   "execution_count": 21,
   "metadata": {},
   "outputs": [],
   "source": [
    "client.download_file(\"masters-models-bucket\", \"test.txt\", \"./test2.txt\")"
   ]
  },
  {
   "cell_type": "code",
   "execution_count": 24,
   "metadata": {},
   "outputs": [
    {
     "data": {
      "text/plain": [
       "{'ResponseMetadata': {'RequestId': 'KNF0RKTFDC9G96ZG',\n",
       "  'HostId': 'CEHDCDHO+0c+GYZU8voagXKFMVTq+BK8l4LHkl7tRFbdw3MzbFDnKeQwOc14vTBi2ZmBPq+MUbw=',\n",
       "  'HTTPStatusCode': 204,\n",
       "  'HTTPHeaders': {'x-amz-id-2': 'CEHDCDHO+0c+GYZU8voagXKFMVTq+BK8l4LHkl7tRFbdw3MzbFDnKeQwOc14vTBi2ZmBPq+MUbw=',\n",
       "   'x-amz-request-id': 'KNF0RKTFDC9G96ZG',\n",
       "   'date': 'Mon, 31 Jul 2023 12:16:40 GMT',\n",
       "   'server': 'AmazonS3'},\n",
       "  'RetryAttempts': 0}}"
      ]
     },
     "execution_count": 24,
     "metadata": {},
     "output_type": "execute_result"
    }
   ],
   "source": [
    "client.delete_object(Bucket=\"masters-models-bucket\", Key=\"test.txt\")"
   ]
  },
  {
   "cell_type": "code",
   "execution_count": null,
   "metadata": {},
   "outputs": [],
   "source": []
  }
 ],
 "metadata": {
  "kernelspec": {
   "display_name": "uni-dl",
   "language": "python",
   "name": "python3"
  },
  "language_info": {
   "codemirror_mode": {
    "name": "ipython",
    "version": 3
   },
   "file_extension": ".py",
   "mimetype": "text/x-python",
   "name": "python",
   "nbconvert_exporter": "python",
   "pygments_lexer": "ipython3",
   "version": "3.9.16"
  },
  "orig_nbformat": 4
 },
 "nbformat": 4,
 "nbformat_minor": 2
}
